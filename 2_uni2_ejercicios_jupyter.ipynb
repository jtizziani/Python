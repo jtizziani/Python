{
 "cells": [
  {
   "cell_type": "code",
   "execution_count": 2,
   "id": "c45b1b21",
   "metadata": {},
   "outputs": [],
   "source": [
    "a = 1+1"
   ]
  },
  {
   "cell_type": "code",
   "execution_count": 4,
   "id": "ea0233e3",
   "metadata": {},
   "outputs": [
    {
     "name": "stdout",
     "output_type": "stream",
     "text": [
      "-7\n"
     ]
    }
   ],
   "source": [
    "valor1=5-2*6\n",
    "print(valor1)"
   ]
  },
  {
   "cell_type": "code",
   "execution_count": 6,
   "id": "ef0a5131",
   "metadata": {},
   "outputs": [
    {
     "name": "stdout",
     "output_type": "stream",
     "text": [
      "18\n"
     ]
    }
   ],
   "source": [
    "valor2=(5-2)*6\n",
    "print(valor2)"
   ]
  },
  {
   "cell_type": "code",
   "execution_count": 7,
   "id": "c9598bfd",
   "metadata": {},
   "outputs": [
    {
     "name": "stdout",
     "output_type": "stream",
     "text": [
      "<class 'int'>\n"
     ]
    }
   ],
   "source": [
    "print(type(valor1))"
   ]
  },
  {
   "cell_type": "code",
   "execution_count": 8,
   "id": "8c306bab",
   "metadata": {},
   "outputs": [
    {
     "name": "stdout",
     "output_type": "stream",
     "text": [
      "<class 'int'>\n"
     ]
    }
   ],
   "source": [
    "print(type(valor2))"
   ]
  },
  {
   "cell_type": "code",
   "execution_count": 10,
   "id": "f5830675",
   "metadata": {},
   "outputs": [
    {
     "name": "stdout",
     "output_type": "stream",
     "text": [
      "5.0\n",
      "<class 'float'>\n"
     ]
    }
   ],
   "source": [
    "valor3=10/2\n",
    "print(valor3)\n",
    "print(type(valor3))"
   ]
  },
  {
   "cell_type": "markdown",
   "id": "fec94f9d",
   "metadata": {},
   "source": []
  },
  {
   "cell_type": "raw",
   "id": "7a4c9919",
   "metadata": {},
   "source": []
  },
  {
   "cell_type": "code",
   "execution_count": 11,
   "id": "b51e204c",
   "metadata": {},
   "outputs": [
    {
     "name": "stdout",
     "output_type": "stream",
     "text": [
      "5\n",
      "<class 'int'>\n"
     ]
    }
   ],
   "source": [
    "valor4=10//2 \n",
    "print(valor4) \n",
    "print(type(valor4))"
   ]
  },
  {
   "cell_type": "code",
   "execution_count": 14,
   "id": "a09cbede",
   "metadata": {},
   "outputs": [
    {
     "name": "stdout",
     "output_type": "stream",
     "text": [
      "23\n",
      "<class 'int'>\n"
     ]
    }
   ],
   "source": [
    "valor5=0x17\n",
    "print(valor5)\n",
    "print(type(valor5))"
   ]
  },
  {
   "cell_type": "code",
   "execution_count": 15,
   "id": "97bab3b9",
   "metadata": {},
   "outputs": [
    {
     "name": "stdout",
     "output_type": "stream",
     "text": [
      "15\n",
      "<class 'int'>\n"
     ]
    }
   ],
   "source": [
    "valor6=0o17\n",
    "print(valor6)\n",
    "print(type(valor6))"
   ]
  },
  {
   "cell_type": "code",
   "execution_count": 16,
   "id": "45cde31b",
   "metadata": {},
   "outputs": [
    {
     "name": "stdout",
     "output_type": "stream",
     "text": [
      "5\n"
     ]
    }
   ],
   "source": [
    "mi_string=\"5\"\n",
    "print(mi_string)"
   ]
  },
  {
   "cell_type": "code",
   "execution_count": 19,
   "id": "613a5235",
   "metadata": {},
   "outputs": [
    {
     "name": "stdout",
     "output_type": "stream",
     "text": [
      "55555\n",
      "<class 'str'>\n",
      "<class 'int'>\n"
     ]
    }
   ],
   "source": [
    "print(5*\"5\")\n",
    "print(type(5*\"5\"))\n",
    "print(type(int(5*\"5\")))"
   ]
  },
  {
   "cell_type": "code",
   "execution_count": 20,
   "id": "44afba90",
   "metadata": {},
   "outputs": [
    {
     "name": "stdout",
     "output_type": "stream",
     "text": [
      "[0, 1, 2]\n"
     ]
    }
   ],
   "source": [
    "f1=[0,1,2]\n",
    "print(f1)"
   ]
  },
  {
   "cell_type": "code",
   "execution_count": 21,
   "id": "79574114",
   "metadata": {},
   "outputs": [
    {
     "name": "stdout",
     "output_type": "stream",
     "text": [
      "[0, 1, 2]\n"
     ]
    }
   ],
   "source": [
    "f2=f1\n",
    "print(f2)"
   ]
  },
  {
   "cell_type": "code",
   "execution_count": 23,
   "id": "5fe037cb",
   "metadata": {},
   "outputs": [
    {
     "name": "stdout",
     "output_type": "stream",
     "text": [
      "3\n",
      "[0, 1, 2]\n"
     ]
    }
   ],
   "source": [
    "f1=3\n",
    "print(f1)\n",
    "print(f2)"
   ]
  },
  {
   "cell_type": "code",
   "execution_count": 25,
   "id": "790bdeb4",
   "metadata": {},
   "outputs": [
    {
     "name": "stdout",
     "output_type": "stream",
     "text": [
      "3\n"
     ]
    }
   ],
   "source": [
    "print(f1)"
   ]
  },
  {
   "cell_type": "code",
   "execution_count": 27,
   "id": "7360e9a7",
   "metadata": {},
   "outputs": [
    {
     "name": "stdout",
     "output_type": "stream",
     "text": [
      "[0, 1, 2]\n"
     ]
    }
   ],
   "source": [
    "f1=[0,1,2]\n",
    "print(f1)"
   ]
  },
  {
   "cell_type": "code",
   "execution_count": 28,
   "id": "567d7c7c",
   "metadata": {},
   "outputs": [
    {
     "name": "stdout",
     "output_type": "stream",
     "text": [
      "4\n",
      "[4, 1, 2]\n"
     ]
    }
   ],
   "source": [
    "f1[0]=4\n",
    "print(f1[0])\n",
    "print(f1)"
   ]
  },
  {
   "cell_type": "code",
   "execution_count": 29,
   "id": "7696779f",
   "metadata": {},
   "outputs": [
    {
     "name": "stdout",
     "output_type": "stream",
     "text": [
      "3\n"
     ]
    },
    {
     "data": {
      "text/plain": [
       "'3'"
      ]
     },
     "execution_count": 29,
     "metadata": {},
     "output_type": "execute_result"
    }
   ],
   "source": [
    "input()"
   ]
  },
  {
   "cell_type": "code",
   "execution_count": 32,
   "id": "254d437a",
   "metadata": {},
   "outputs": [
    {
     "name": "stdout",
     "output_type": "stream",
     "text": [
      "[0, 0, 0, 0, 5]\n"
     ]
    }
   ],
   "source": [
    "f3=[0,0,0,0,5]\n",
    "print(f3)"
   ]
  },
  {
   "cell_type": "code",
   "execution_count": 33,
   "id": "47b9b4a0",
   "metadata": {},
   "outputs": [
    {
     "name": "stdout",
     "output_type": "stream",
     "text": [
      "4\n",
      "['4', 0, 0, 0, 5]\n"
     ]
    }
   ],
   "source": [
    "f3[0]=input()\n",
    "print(f3)"
   ]
  },
  {
   "cell_type": "code",
   "execution_count": 34,
   "id": "f1edd64e",
   "metadata": {},
   "outputs": [],
   "source": [
    "import copy \n",
    "# Reasignacion de listas pero copiando\n",
    "# Crear lista"
   ]
  },
  {
   "cell_type": "code",
   "execution_count": 35,
   "id": "73cdf8a6",
   "metadata": {},
   "outputs": [
    {
     "name": "stdout",
     "output_type": "stream",
     "text": [
      "[0, 1, 2] [0, 1, 2]\n"
     ]
    }
   ],
   "source": [
    "f1=[0,1,2]\n",
    "f2=copy.copy(f1)\n",
    "print(f1,f2)"
   ]
  },
  {
   "cell_type": "code",
   "execution_count": 37,
   "id": "7b0d1a7a",
   "metadata": {},
   "outputs": [
    {
     "name": "stdout",
     "output_type": "stream",
     "text": [
      "Juan\n",
      "['J', 'u', 'a', 'n']\n",
      "Puan\n",
      "<class 'str'>\n"
     ]
    }
   ],
   "source": [
    "# De string a Lista\n",
    "# si quisieramos modificar un string lo convertiriamos en una lista, hacer las modificaciones y luego\n",
    "# volver a convertirlo en un string\n",
    "\n",
    "J='Juan'           # J es un string\n",
    "print(J)\n",
    "L=list(J)          # Transformo J en una lista\n",
    "print(L)           # imprimo la lista\n",
    "L[0]='P'           # la lista puede ser modificada\n",
    "palabra=\"\".join(L) # uno los elementos con un delimitador vacio\n",
    "print(palabra)\n",
    "print(type(palabra))"
   ]
  },
  {
   "cell_type": "code",
   "execution_count": null,
   "id": "0c554d95",
   "metadata": {},
   "outputs": [],
   "source": [
    "# Metodos de listas (append - pop - extend - remove - insert)"
   ]
  },
  {
   "cell_type": "code",
   "execution_count": 38,
   "id": "f086e4a8",
   "metadata": {},
   "outputs": [],
   "source": [
    "peliculas = [\"pelicula1\", \"pelicula2\", \"pelicula3\"]"
   ]
  },
  {
   "cell_type": "code",
   "execution_count": 39,
   "id": "f8085a91",
   "metadata": {},
   "outputs": [
    {
     "name": "stdout",
     "output_type": "stream",
     "text": [
      "['pelicula1', 'pelicula2', 'pelicula3']\n"
     ]
    }
   ],
   "source": [
    "print(peliculas)"
   ]
  },
  {
   "cell_type": "code",
   "execution_count": 40,
   "id": "246d5dcc",
   "metadata": {},
   "outputs": [
    {
     "name": "stdout",
     "output_type": "stream",
     "text": [
      "pelicula1\n"
     ]
    }
   ],
   "source": [
    "print(peliculas[0])"
   ]
  },
  {
   "cell_type": "code",
   "execution_count": 41,
   "id": "356e2341",
   "metadata": {},
   "outputs": [
    {
     "name": "stdout",
     "output_type": "stream",
     "text": [
      "3\n"
     ]
    }
   ],
   "source": [
    "print(len(peliculas))"
   ]
  },
  {
   "cell_type": "code",
   "execution_count": 42,
   "id": "27113635",
   "metadata": {},
   "outputs": [],
   "source": [
    "# Con append agregamos datos al final de la lista\n",
    "peliculas.append(\"pelicula4\")"
   ]
  },
  {
   "cell_type": "code",
   "execution_count": 43,
   "id": "823bec37",
   "metadata": {},
   "outputs": [
    {
     "name": "stdout",
     "output_type": "stream",
     "text": [
      "['pelicula1', 'pelicula2', 'pelicula3', 'pelicula4']\n"
     ]
    }
   ],
   "source": [
    "print(peliculas)"
   ]
  },
  {
   "cell_type": "code",
   "execution_count": 44,
   "id": "49c9489b",
   "metadata": {},
   "outputs": [
    {
     "data": {
      "text/plain": [
       "'pelicula4'"
      ]
     },
     "execution_count": 44,
     "metadata": {},
     "output_type": "execute_result"
    }
   ],
   "source": [
    "# Con pop removemos el ultimo dato de la lista\n",
    "peliculas.pop()"
   ]
  },
  {
   "cell_type": "code",
   "execution_count": 45,
   "id": "cd404397",
   "metadata": {},
   "outputs": [
    {
     "name": "stdout",
     "output_type": "stream",
     "text": [
      "['pelicula1', 'pelicula2', 'pelicula3']\n"
     ]
    }
   ],
   "source": [
    "print(peliculas)"
   ]
  },
  {
   "cell_type": "code",
   "execution_count": 47,
   "id": "e4d25331",
   "metadata": {},
   "outputs": [],
   "source": [
    "# Con extend agregamos un grupo de datos al final de la lista\n",
    "peliculas.extend([\"pelicula4\", \"pelicula5\"])"
   ]
  },
  {
   "cell_type": "code",
   "execution_count": 48,
   "id": "201c4741",
   "metadata": {},
   "outputs": [
    {
     "name": "stdout",
     "output_type": "stream",
     "text": [
      "['pelicula1', 'pelicula2', 'pelicula3', 'pelicula4', 'pelicula5']\n"
     ]
    }
   ],
   "source": [
    "print(peliculas)"
   ]
  },
  {
   "cell_type": "code",
   "execution_count": 49,
   "id": "5043ef26",
   "metadata": {},
   "outputs": [],
   "source": [
    "# Con remove removemos un dato especifico de la lista\n",
    "peliculas.remove(\"pelicula3\")"
   ]
  },
  {
   "cell_type": "code",
   "execution_count": 50,
   "id": "8e8120d5",
   "metadata": {},
   "outputs": [
    {
     "name": "stdout",
     "output_type": "stream",
     "text": [
      "['pelicula1', 'pelicula2', 'pelicula4', 'pelicula5']\n"
     ]
    }
   ],
   "source": [
    "print(peliculas)"
   ]
  },
  {
   "cell_type": "code",
   "execution_count": 52,
   "id": "aeb0d606",
   "metadata": {},
   "outputs": [],
   "source": [
    "# Con insert insertamos un dato en un lugar especifico de la lista\n",
    "peliculas.insert(2,\"pelicula3\")"
   ]
  },
  {
   "cell_type": "code",
   "execution_count": 53,
   "id": "c1d08fb5",
   "metadata": {},
   "outputs": [
    {
     "name": "stdout",
     "output_type": "stream",
     "text": [
      "['pelicula1', 'pelicula2', 'pelicula3', 'pelicula4', 'pelicula5']\n"
     ]
    }
   ],
   "source": [
    "print(peliculas)"
   ]
  },
  {
   "cell_type": "code",
   "execution_count": 54,
   "id": "e2715acf",
   "metadata": {},
   "outputs": [],
   "source": [
    "peliculas.insert(0,\"pelicula0\")"
   ]
  },
  {
   "cell_type": "code",
   "execution_count": 55,
   "id": "6ebd8afe",
   "metadata": {},
   "outputs": [
    {
     "name": "stdout",
     "output_type": "stream",
     "text": [
      "['pelicula0', 'pelicula1', 'pelicula2', 'pelicula3', 'pelicula4', 'pelicula5']\n"
     ]
    }
   ],
   "source": [
    "print(peliculas)"
   ]
  },
  {
   "cell_type": "code",
   "execution_count": 56,
   "id": "a08e2da9",
   "metadata": {},
   "outputs": [],
   "source": [
    "# Diccionarios \n",
    "F={'clave1':'valor1','clave2':'valor2','clave3':'valor3','claveN':'valorN'}"
   ]
  },
  {
   "cell_type": "code",
   "execution_count": 57,
   "id": "e2a6b231",
   "metadata": {},
   "outputs": [
    {
     "name": "stdout",
     "output_type": "stream",
     "text": [
      "valor1\n"
     ]
    }
   ],
   "source": [
    "print(F['clave1'])"
   ]
  },
  {
   "cell_type": "code",
   "execution_count": 58,
   "id": "17589906",
   "metadata": {},
   "outputs": [
    {
     "name": "stdout",
     "output_type": "stream",
     "text": [
      "valor1\n"
     ]
    }
   ],
   "source": [
    "# Crear por asignacion\n",
    "J={}\n",
    "J['clave1']='valor1'\n",
    "J['clave2']='valor2'\n",
    "print(F['clave1'])"
   ]
  },
  {
   "cell_type": "code",
   "execution_count": 59,
   "id": "79dc3cd2",
   "metadata": {},
   "outputs": [
    {
     "name": "stdout",
     "output_type": "stream",
     "text": [
      "valor1\n"
     ]
    }
   ],
   "source": [
    "# Crear mediante dict()\n",
    "S=dict(clave1='valor1',clave2='valor2')\n",
    "print(S['clave1'])"
   ]
  },
  {
   "cell_type": "code",
   "execution_count": 60,
   "id": "e99b1340",
   "metadata": {},
   "outputs": [],
   "source": [
    "# Encadenamiento y agregar elementos\n",
    "# Encadenamiento\n",
    "F={'nombre':{'primero':'Juan', 'segundo':'Marcelo'},'trabajo':['profesor','ingeniero']}"
   ]
  },
  {
   "cell_type": "code",
   "execution_count": 61,
   "id": "237a648e",
   "metadata": {},
   "outputs": [
    {
     "name": "stdout",
     "output_type": "stream",
     "text": [
      "{'nombre': {'primero': 'Juan', 'segundo': 'Marcelo'}, 'trabajo': ['profesor', 'ingeniero']}\n"
     ]
    }
   ],
   "source": [
    "print(F)"
   ]
  },
  {
   "cell_type": "code",
   "execution_count": 62,
   "id": "4e492e01",
   "metadata": {},
   "outputs": [
    {
     "name": "stdout",
     "output_type": "stream",
     "text": [
      "nombre\n"
     ]
    }
   ],
   "source": [
    "print('nombre')"
   ]
  },
  {
   "cell_type": "code",
   "execution_count": 63,
   "id": "5dd47055",
   "metadata": {},
   "outputs": [
    {
     "name": "stdout",
     "output_type": "stream",
     "text": [
      "Juan\n"
     ]
    }
   ],
   "source": [
    "print(F['nombre']['primero'])"
   ]
  },
  {
   "cell_type": "code",
   "execution_count": 66,
   "id": "7b212b30",
   "metadata": {},
   "outputs": [
    {
     "name": "stdout",
     "output_type": "stream",
     "text": [
      "Marcelo\n"
     ]
    }
   ],
   "source": [
    "print(F['nombre']['segundo'])"
   ]
  },
  {
   "cell_type": "code",
   "execution_count": 68,
   "id": "20bad936",
   "metadata": {},
   "outputs": [
    {
     "name": "stdout",
     "output_type": "stream",
     "text": [
      "{'nombre': {'primero': 'Juan', 'segundo': 'Marcelo'}, 'trabajo': ['profesor', 'ingeniero', 'pintor']}\n"
     ]
    }
   ],
   "source": [
    "# Agregar elementos\n",
    "F['trabajo'].append('pintor')\n",
    "print(F)"
   ]
  },
  {
   "cell_type": "code",
   "execution_count": null,
   "id": "eaa9d9c1",
   "metadata": {},
   "outputs": [],
   "source": [
    "input()"
   ]
  },
  {
   "cell_type": "code",
   "execution_count": null,
   "id": "cc716c99",
   "metadata": {},
   "outputs": [],
   "source": [
    "# Pasar a lista\n",
    "F={'nombre':{'primero':'Juan','segundo':'Marcelo'},'trabajo':['profesor','ingeniero']}\n",
    "P=list(F.keys())\n",
    "print(P)\n"
   ]
  },
  {
   "cell_type": "code",
   "execution_count": null,
   "id": "b9a87a07",
   "metadata": {},
   "outputs": [],
   "source": [
    "S=list(F.values())\n",
    "print(S)\n",
    "input()"
   ]
  },
  {
   "cell_type": "code",
   "execution_count": null,
   "id": "19df114c",
   "metadata": {},
   "outputs": [],
   "source": [
    "# Herramientas de sistema\n",
    "import sys, os\n",
    "print(len(dir(sys)))"
   ]
  },
  {
   "cell_type": "code",
   "execution_count": null,
   "id": "1d83eed1",
   "metadata": {},
   "outputs": [],
   "source": [
    "print(len(dir(os)))"
   ]
  },
  {
   "cell_type": "code",
   "execution_count": null,
   "id": "a66d07cd",
   "metadata": {},
   "outputs": [],
   "source": [
    "print(dir(sys))"
   ]
  },
  {
   "cell_type": "code",
   "execution_count": null,
   "id": "f6afedb6",
   "metadata": {},
   "outputs": [],
   "source": [
    "print(dir(os))"
   ]
  },
  {
   "cell_type": "code",
   "execution_count": null,
   "id": "d3eb87ba",
   "metadata": {},
   "outputs": [],
   "source": []
  }
 ],
 "metadata": {
  "kernelspec": {
   "display_name": "Python 3",
   "language": "python",
   "name": "python3"
  },
  "language_info": {
   "codemirror_mode": {
    "name": "ipython",
    "version": 3
   },
   "file_extension": ".py",
   "mimetype": "text/x-python",
   "name": "python",
   "nbconvert_exporter": "python",
   "pygments_lexer": "ipython3",
   "version": "3.8.5"
  }
 },
 "nbformat": 4,
 "nbformat_minor": 5
}

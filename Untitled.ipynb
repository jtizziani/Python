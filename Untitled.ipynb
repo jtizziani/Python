{
 "cells": [
  {
   "cell_type": "markdown",
   "metadata": {},
   "source": [
    "Ejercicios Unidad 2"
   ]
  },
  {
   "cell_type": "markdown",
   "metadata": {},
   "source": [
    "Ejercicio 1\n",
    "Cree una lista de frutas de 7 elementos, y realice un programa que muestre el tercer elemento de la lista en pantalla.           \n"
   ]
  },
  {
   "cell_type": "code",
   "execution_count": 4,
   "metadata": {},
   "outputs": [],
   "source": [
    "lista_frutas = ['naranjas', 'peras', 'bananas', 'frutillas', 'mandarinas', 'cerezas', 'manzanas']"
   ]
  },
  {
   "cell_type": "code",
   "execution_count": 5,
   "metadata": {},
   "outputs": [
    {
     "name": "stdout",
     "output_type": "stream",
     "text": [
      "['naranjas', 'peras', 'bananas', 'frutillas', 'mandarinas', 'cerezas', 'manzanas']\n"
     ]
    }
   ],
   "source": [
    "print(lista_frutas)"
   ]
  },
  {
   "cell_type": "code",
   "execution_count": 6,
   "metadata": {},
   "outputs": [
    {
     "name": "stdout",
     "output_type": "stream",
     "text": [
      "bananas\n"
     ]
    }
   ],
   "source": [
    "print(lista_frutas[2])"
   ]
  },
  {
   "cell_type": "markdown",
   "metadata": {},
   "source": [
    "--------------------------------------------------------------------------------------"
   ]
  },
  {
   "cell_type": "markdown",
   "metadata": {},
   "source": [
    "Ejercicio 2\n",
    "Para concatenar texto se utiliza el signo + \n",
    "Cree una lista de frutas de 2 elementos, y realice un programa que muestre una oración conteniendo los dos elementos de la lista concatenándolos con texto para formar una oración con sentido.           \t\n"
   ]
  },
  {
   "cell_type": "code",
   "execution_count": 10,
   "metadata": {},
   "outputs": [],
   "source": [
    "lista_frutas2 = ['uvas', 'pelones']"
   ]
  },
  {
   "cell_type": "code",
   "execution_count": 12,
   "metadata": {},
   "outputs": [
    {
     "name": "stdout",
     "output_type": "stream",
     "text": [
      "['uvas', 'pelones']\n"
     ]
    }
   ],
   "source": [
    "print(lista_frutas2)"
   ]
  },
  {
   "cell_type": "code",
   "execution_count": 21,
   "metadata": {},
   "outputs": [
    {
     "name": "stdout",
     "output_type": "stream",
     "text": [
      "uvas\n"
     ]
    }
   ],
   "source": [
    "print(lista_frutas2[0])"
   ]
  },
  {
   "cell_type": "code",
   "execution_count": 22,
   "metadata": {},
   "outputs": [
    {
     "name": "stdout",
     "output_type": "stream",
     "text": [
      "En la provincia de Mendoza se cosechan muy buenas uvas y tambien deliciosos pelones\n"
     ]
    }
   ],
   "source": [
    "print(f'En la provincia de Mendoza se cosechan muy buenas {lista_frutas2[0]} y tambien deliciosos {lista_frutas2[1]}')"
   ]
  },
  {
   "cell_type": "markdown",
   "metadata": {},
   "source": [
    "----------------------------------------------------------------------------------------"
   ]
  },
  {
   "cell_type": "markdown",
   "metadata": {},
   "source": [
    "Ejercicio 3\n",
    "Cree un diccionario con las claves:    \t\n",
    "·         identificador\n",
    "·         nombre\n",
    "·         apellido\n",
    "·         telefono \n",
    "Nota: al utilizar claves no utilice acentos u otros caracteres en español, por ejemplo no ponga “teléfono” sino “telefono”.   \t\n",
    "Realice un programa que a partir del diccionario creado retorne en una oración:         \t\n",
    "        \t1) El número de elementos del diccionario   \t\n",
    "        \t2) Las claves del diccionario    \t\t\n"
   ]
  },
  {
   "cell_type": "code",
   "execution_count": 23,
   "metadata": {},
   "outputs": [],
   "source": [
    "diccionario = {'identificador':'00001', 'nombre':'jorge', 'apellido':'tizziani', 'telefono':'113412xxxx'}"
   ]
  },
  {
   "cell_type": "code",
   "execution_count": 24,
   "metadata": {},
   "outputs": [
    {
     "name": "stdout",
     "output_type": "stream",
     "text": [
      "{'identificador': '00001', 'nombre': 'jorge', 'apellido': 'tizziani', 'telefono': '113412xxxx'}\n"
     ]
    }
   ],
   "source": [
    "print(diccionario)"
   ]
  },
  {
   "cell_type": "code",
   "execution_count": 44,
   "metadata": {},
   "outputs": [
    {
     "name": "stdout",
     "output_type": "stream",
     "text": [
      "El numero de elementos del disccionario es de : 4\n"
     ]
    }
   ],
   "source": [
    "print(f'El numero de elementos del disccionario es de : {len(diccionario)}')"
   ]
  },
  {
   "cell_type": "code",
   "execution_count": 50,
   "metadata": {},
   "outputs": [],
   "source": [
    "#print(diccionario.get('identificador'))"
   ]
  },
  {
   "cell_type": "code",
   "execution_count": 61,
   "metadata": {},
   "outputs": [
    {
     "name": "stdout",
     "output_type": "stream",
     "text": [
      "La clave del diccionario es: 00001\n"
     ]
    }
   ],
   "source": [
    "print(f'La clave del diccionario es: {diccionario.get(\"identificador\")}')"
   ]
  },
  {
   "cell_type": "markdown",
   "metadata": {},
   "source": [
    "--------------------------------------------------------------------------------------------"
   ]
  },
  {
   "cell_type": "markdown",
   "metadata": {},
   "source": [
    "Ejercicio 4\n",
    "\n",
    "Para tomar texto por consola se utiliza el comando: input()\n",
    "Tome un nombre por consola y presente en la pantalla de la consola la oración:\n",
    "Hola nombre bienvenido!\n"
   ]
  }
 ],
 "metadata": {
  "kernelspec": {
   "display_name": "Python 3",
   "language": "python",
   "name": "python3"
  },
  "language_info": {
   "codemirror_mode": {
    "name": "ipython",
    "version": 3
   },
   "file_extension": ".py",
   "mimetype": "text/x-python",
   "name": "python",
   "nbconvert_exporter": "python",
   "pygments_lexer": "ipython3",
   "version": "3.7.1"
  }
 },
 "nbformat": 4,
 "nbformat_minor": 2
}
